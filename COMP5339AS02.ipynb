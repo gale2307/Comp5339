{
 "cells": [
  {
   "cell_type": "markdown",
   "id": "70ed03c2",
   "metadata": {},
   "source": [
    "Import necessary libraries"
   ]
  },
  {
   "cell_type": "code",
   "execution_count": null,
   "id": "67f8fb62",
   "metadata": {},
   "outputs": [],
   "source": [
    "# Import necessary libraries\n",
    "import requests\n",
    "import pandas as pd\n",
    "import json\n",
    "from datetime import datetime, timezone, timedelta\n",
    "import time\n",
    "\n",
    "# For Generate Unique Transaction Id for accesing API\n",
    "import uuid\n",
    "\n",
    "# MQTT server\n",
    "import paho.mqtt.subscribe as subscribe\n",
    "import paho.mqtt.client as mqtt"
   ]
  },
  {
   "cell_type": "markdown",
   "id": "26b52e1f",
   "metadata": {},
   "source": [
    "Import API Key"
   ]
  },
  {
   "cell_type": "markdown",
   "id": "782c0c5b",
   "metadata": {},
   "source": [
    "Import API Key Instructions\n",
    "\n",
    "1. Go to the [NSW API Fuel documentation](https://api.nsw.gov.au/Product/Index/22#v-pills-doc) to get the **API Key** and **Authorization Header**.  \n",
    "2. Subscribe to the Fuel API by creating an NSW API account:  \n",
    "   - Create a new app with your chosen **App Name** and **App Description**.  \n",
    "   - Under **Add an API Product**, select **Fuel API**.  \n",
    "   - Scroll to the bottom of the page and click **Add app**.  \n",
    "   - You will receive your **API Key**, **API Secret**, and **Authorization Header**.  \n",
    "3. In the home directory of your assignment folder, create a file named `config_secret.py`.  \n",
    "   - _Note:_ Place `config_secret.py` in the same directory as `COMP5339AS02.ipynb`.  \n",
    "4. Open `config_secret.py` and add your `API_KEY` and `AuthorizationHeader`.  \n",
    "   - A sample file has been provided as `config_secret_sample.py`.  "
   ]
  },
  {
   "cell_type": "code",
   "execution_count": null,
   "id": "920803cb",
   "metadata": {},
   "outputs": [],
   "source": [
    "import config_secret\n",
    "\n",
    "# grab your key from config_secret.py\n",
    "API_KEY = config_secret.API_KEY\n",
    "AuthorizationHeader = config_secret.AuthorizationHeader"
   ]
  },
  {
   "cell_type": "markdown",
   "id": "d2f84373",
   "metadata": {},
   "source": [
    "1. Data Retrieval"
   ]
  },
  {
   "cell_type": "code",
   "execution_count": null,
   "id": "db7aaeca",
   "metadata": {},
   "outputs": [],
   "source": [
    "# 1. Data Retrieval\n",
    "\n",
    "# Fuel API Document\n",
    "# https://api.nsw.gov.au/Product/Index/22#v-pills-doc\n",
    "\n",
    "class FuelPriceCheckAPI:\n",
    "    def __init__(self, API_KEY, AuthorizationHeader):\n",
    "        self.url_base = \"https://api.onegov.nsw.gov.au\" # Base Url\n",
    "        self.API_KEY = API_KEY\n",
    "        self.AuthorizationHeader = AuthorizationHeader\n",
    "\n",
    "    \n",
    "    def get_datetime_now():\n",
    "        '''\n",
    "        Get current datetime in the API required format.\n",
    "        '''\n",
    "\n",
    "        return datetime.now(timezone.utc).strftime(\"%d/%m/%Y %I:%M:%S %p\")\n",
    "    \n",
    "\n",
    "    def get_datetime_x_days_ago(x: int):\n",
    "        '''\n",
    "        Get x days ago datetime since current datetime in the API required format.\n",
    "        '''\n",
    "\n",
    "        return (datetime.now(timezone.utc) - timedelta(days=x)).strftime(\"%d/%m/%Y %I:%M:%S %p\")\n",
    "    \n",
    "\n",
    "    def get_unique_transactionId():\n",
    "        '''\n",
    "        Get Unique Transaction Id.\n",
    "        '''\n",
    "\n",
    "        return str(uuid.uuid4())\n",
    "\n",
    "\n",
    "    def get_accesstoken(self):\n",
    "        '''\n",
    "        The client can request an access token using only its client credentials (or other supported means of authentication) when the client is requesting access to the protected resources under its control, or those of another resource owner that have been previously arranged with the authorization server.\n",
    "        '''\n",
    "\n",
    "        # Config url api prameters for getting accesstoken\n",
    "        url_subpart = \"/oauth/client_credential/accesstoken\"\n",
    "\n",
    "        url = self.url_base + url_subpart\n",
    "\n",
    "        query_getAccessToken = {\"grant_type\":\"client_credentials\"}\n",
    "\n",
    "        headers_getAccessToken = {'Authorization': self.AuthorizationHeader}\n",
    "\n",
    "        time.sleep(5)\n",
    "\n",
    "        # Get the web result for accesstoken\n",
    "        response = requests.get(url, headers=headers_getAccessToken, params=query_getAccessToken)\n",
    "\n",
    "        # Get the accesstoken from the web result\n",
    "        access_token = response.json()[\"access_token\"]\n",
    "\n",
    "        return access_token\n",
    "\n",
    "\n",
    "    def getFuelPriceReference(self, modified_since_datetime=None):\n",
    "        '''\n",
    "        modified_since_datetime: The datetime UTC date and time of request. Format dd/MM/yyyy hh:mm:ss AM/PM. Default 1 day before current time.\n",
    "        \n",
    "        Meaning:\n",
    "        modified_since_datetime: The if-modified-since header tells the API to return the reference data only if it has changed since the given UTC timestamp, otherwise it returns “Not Modified” to save bandwidth.\n",
    "         \n",
    "        Description:\n",
    "        Returns lists of reference data to be used in subsequent requests. It is recommended to execute this call in a separate api client as response can be over 2 mb. This API returns data for NSW.\n",
    "        '''\n",
    "\n",
    "        # Config url api prameters for getting fuel price\n",
    "        url_subpart = \"/FuelCheckRefData/v1/fuel/lovs\"\n",
    "\n",
    "        url = self.url_base + url_subpart\n",
    "\n",
    "        # Config modified_since_datetime\n",
    "        if modified_since_datetime is None:\n",
    "            modified_since_datetime = FuelPriceCheckAPI.get_datetime_x_days_ago(1)\n",
    "\n",
    "        headers = {\n",
    "            'Authorization': f'Bearer {self.get_accesstoken()}',\n",
    "            'Content-Type': 'application/json; charset=utf-8',\n",
    "            'apikey': self.API_KEY,\n",
    "            'transactionid': FuelPriceCheckAPI.get_unique_transactionId(),\n",
    "            'requesttimestamp': FuelPriceCheckAPI.get_datetime_now(),\n",
    "            'if-modified-since': modified_since_datetime\n",
    "        }\n",
    "\n",
    "        time.sleep(5)\n",
    "\n",
    "        response = requests.get(url, headers=headers)\n",
    "\n",
    "        return response\n",
    "\n",
    "\n",
    "    def getFuelPrice(self):\n",
    "        '''\n",
    "        Returns all current fuel prices for all service stations. There may be restrictions on how often this API request can be made. It is recommended to execute this call in a separate api client as response can be over 2 mb. This API returns data for NSW.\n",
    "        '''\n",
    "        # Config url api prameters for getting fuel price\n",
    "        url_subpart = \"/FuelPriceCheck/v1/fuel/prices\"\n",
    "\n",
    "        url = self.url_base + url_subpart\n",
    "\n",
    "        headers = {\n",
    "            'Authorization': f'Bearer {self.get_accesstoken()}',\n",
    "            'Content-Type': 'application/json; charset=utf-8',\n",
    "            'apikey': self.API_KEY,\n",
    "            'transactionid': FuelPriceCheckAPI.get_unique_transactionId(),\n",
    "            'requesttimestamp': FuelPriceCheckAPI.get_datetime_now()\n",
    "        }\n",
    "\n",
    "        time.sleep(5)\n",
    "\n",
    "        response = requests.get(url, headers=headers)\n",
    "\n",
    "        return response\n",
    "\n",
    "\n",
    "    def getNewFuelPrice(self):\n",
    "        '''\n",
    "        Returns all new current prices that have been submitted since the last \"/fuelpricecheck/v1/fuel/prices\" or \"/fuelpricecheck/v1/fuel/prices/new\" request using the apikey on the current day. This API returns data for NSW.\n",
    "        '''\n",
    "        # Config url api prameters for getting fuel price\n",
    "        url_subpart = \"/FuelPriceCheck/v1/fuel/prices/new\"\n",
    "\n",
    "        url = self.url_base + url_subpart\n",
    "\n",
    "        headers = {\n",
    "            'Authorization': f'Bearer {self.get_accesstoken()}',\n",
    "            'Content-Type': 'application/json; charset=utf-8',\n",
    "            'apikey': self.API_KEY,\n",
    "            'transactionid': FuelPriceCheckAPI.get_unique_transactionId(),\n",
    "            'requesttimestamp': FuelPriceCheckAPI.get_datetime_now()\n",
    "        }\n",
    "\n",
    "        time.sleep(5)\n",
    "\n",
    "        response = requests.get(url, headers=headers)\n",
    "\n",
    "        return response\n"
   ]
  },
  {
   "cell_type": "code",
   "execution_count": null,
   "id": "618d7fb2",
   "metadata": {},
   "outputs": [],
   "source": [
    "# Construct the class\n",
    "fuelpriceAPI = FuelPriceCheckAPI(API_KEY, AuthorizationHeader)"
   ]
  },
  {
   "cell_type": "code",
   "execution_count": null,
   "id": "b58d4efb",
   "metadata": {},
   "outputs": [],
   "source": [
    "# To use the API, simply called fuelpriceAPI.getNewFuelPrice() or fuelpriceAPI.getFuelPrice() or fuelpriceAPI.getFuelPriceReference() depends on the usage\n",
    "responseFromGetFuelPriceReference = fuelpriceAPI.getFuelPriceReference()"
   ]
  },
  {
   "cell_type": "code",
   "execution_count": null,
   "id": "80118e06",
   "metadata": {},
   "outputs": [],
   "source": [
    "print(json.dumps(responseFromGetFuelPriceReference.json(), indent=4, sort_keys=True))"
   ]
  },
  {
   "cell_type": "code",
   "execution_count": null,
   "id": "de1f89e8",
   "metadata": {},
   "outputs": [],
   "source": [
    "# To use the API, simply called fuelpriceAPI.getNewFuelPrice() or fuelpriceAPI.getFuelPrice() or fuelpriceAPI.getFuelPriceReference() depends on the usage\n",
    "responseFromGetFuelPrice = fuelpriceAPI.getFuelPrice()"
   ]
  },
  {
   "cell_type": "code",
   "execution_count": null,
   "id": "cfce2b6a",
   "metadata": {},
   "outputs": [],
   "source": [
    "# See the result\n",
    "print(json.dumps(responseFromGetFuelPrice.json(), indent=4, sort_keys=True))"
   ]
  },
  {
   "cell_type": "code",
   "execution_count": null,
   "id": "01694ede",
   "metadata": {},
   "outputs": [],
   "source": [
    "# To use the API, simply called fuelpriceAPI.getNewFuelPrice() or fuelpriceAPI.getFuelPrice() or fuelpriceAPI.getFuelPriceReference() depends on the usage\n",
    "responseFromGetNewFuelPrice = fuelpriceAPI.getNewFuelPrice()"
   ]
  },
  {
   "cell_type": "code",
   "execution_count": null,
   "id": "638d7fe7",
   "metadata": {},
   "outputs": [],
   "source": [
    "# See the result\n",
    "print(json.dumps(responseFromGetNewFuelPrice.json(), indent=4, sort_keys=True))"
   ]
  },
  {
   "cell_type": "markdown",
   "id": "88cb632a",
   "metadata": {},
   "source": [
    "API Calls\n",
    "1. Create API class instance FuelPriceCheckAPI by entering argument API_KEY and AuthorizationHeader\n",
    "2. Call API using the instance depends on usage\n",
    "    - instance.getNewFuelPrice()\n",
    "    - instance.getFuelPrice()\n",
    "    - instance.getFuelPriceReference()\n",
    "\n",
    "_Note:_ A FuelPriceCheckAPI instance has been created with the name fuelpriceAPI. simply called fuelpriceAPI.getNewFuelPrice() or fuelpriceAPI.getFuelPrice() or fuelpriceAPI.getFuelPriceReference() depends on the usage."
   ]
  },
  {
   "cell_type": "markdown",
   "id": "c686980c",
   "metadata": {},
   "source": [
    "2. Data Integration and Storage"
   ]
  },
  {
   "cell_type": "code",
   "execution_count": null,
   "id": "bcba2e5e",
   "metadata": {},
   "outputs": [],
   "source": []
  },
  {
   "cell_type": "code",
   "execution_count": null,
   "id": "1dbc0fd2",
   "metadata": {},
   "outputs": [],
   "source": [
    "# 2. Data Integration and Storage"
   ]
  },
  {
   "cell_type": "markdown",
   "id": "1c152b2d",
   "metadata": {},
   "source": [
    "3. Data Publishing via MQTT"
   ]
  },
  {
   "cell_type": "code",
   "execution_count": null,
   "id": "4399d868",
   "metadata": {},
   "outputs": [],
   "source": [
    "# 3. Data Publishing via MQTT\n",
    "\n",
    "# Publisher\n"
   ]
  },
  {
   "cell_type": "markdown",
   "id": "c160c5df",
   "metadata": {},
   "source": [
    "4. Data Subscribing and Visualisation"
   ]
  },
  {
   "cell_type": "code",
   "execution_count": null,
   "id": "c471690b",
   "metadata": {},
   "outputs": [],
   "source": [
    "# 4. Data Subscribing and Visualisation"
   ]
  },
  {
   "cell_type": "markdown",
   "id": "f5d2e3fc",
   "metadata": {},
   "source": [
    "5. Continuous Execution"
   ]
  },
  {
   "cell_type": "code",
   "execution_count": null,
   "id": "2f943b81",
   "metadata": {},
   "outputs": [],
   "source": [
    "# 5. Continuous Execution"
   ]
  }
 ],
 "metadata": {
  "kernelspec": {
   "display_name": "Python 3",
   "language": "python",
   "name": "python3"
  },
  "language_info": {
   "codemirror_mode": {
    "name": "ipython",
    "version": 3
   },
   "file_extension": ".py",
   "mimetype": "text/x-python",
   "name": "python",
   "nbconvert_exporter": "python",
   "pygments_lexer": "ipython3",
   "version": "3.13.0"
  }
 },
 "nbformat": 4,
 "nbformat_minor": 5
}
