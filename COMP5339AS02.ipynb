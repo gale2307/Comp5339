{
 "cells": [
  {
   "cell_type": "markdown",
   "id": "70ed03c2",
   "metadata": {},
   "source": [
    "Import necessary libraries"
   ]
  },
  {
   "cell_type": "code",
   "execution_count": null,
   "id": "67f8fb62",
   "metadata": {},
   "outputs": [],
   "source": [
    "# Import necessary libraries\n",
    "import requests\n",
    "import pandas as pd\n",
    "import json\n",
    "from datetime import datetime, timezone\n",
    "import time\n",
    "\n",
    "# For Generate Unique Transaction Id for accesing API\n",
    "import uuid"
   ]
  },
  {
   "cell_type": "markdown",
   "id": "26b52e1f",
   "metadata": {},
   "source": [
    "Import API Key"
   ]
  },
  {
   "cell_type": "markdown",
   "id": "782c0c5b",
   "metadata": {},
   "source": [
    "Import API Key Instructions\n",
    "\n",
    "1. Go to the [NSW API Fuel documentation](https://api.nsw.gov.au/Product/Index/22#v-pills-doc) to get the **API Key** and **Authorization Header**.  \n",
    "2. Subscribe to the Fuel API by creating an NSW API account:  \n",
    "   - Create a new app with your chosen **App Name** and **App Description**.  \n",
    "   - Under **Add an API Product**, select **Fuel API**.  \n",
    "   - Scroll to the bottom of the page and click **Add app**.  \n",
    "   - You will receive your **API Key**, **API Secret**, and **Authorization Header**.  \n",
    "3. In the home directory of your assignment folder, create a file named `config_secret.py`.  \n",
    "   - _Note:_ Place `config_secret.py` in the same directory as `COMP5339AS02.ipynb`.  \n",
    "4. Open `config_secret.py` and add your `API_KEY` and `AuthorizationHeader`.  \n",
    "   - A sample file has been provided as `config_secret_sample.py`.  "
   ]
  },
  {
   "cell_type": "code",
   "execution_count": null,
   "id": "920803cb",
   "metadata": {},
   "outputs": [],
   "source": [
    "import config_secret\n",
    "\n",
    "# grab your key from config_secret.py\n",
    "API_KEY = config_secret.API_KEY\n",
    "AuthorizationHeader = config_secret.AuthorizationHeader"
   ]
  },
  {
   "cell_type": "markdown",
   "id": "d2f84373",
   "metadata": {},
   "source": [
    "1. Data Retrieval"
   ]
  },
  {
   "cell_type": "code",
   "execution_count": null,
   "id": "db7aaeca",
   "metadata": {},
   "outputs": [],
   "source": [
    "# 1. Data Retrieval\n",
    "\n",
    "# Fuel API Document\n",
    "# https://api.nsw.gov.au/Product/Index/22#v-pills-doc\n",
    "\n",
    "class FuelPriceCheckAPI:\n",
    "    def __init__(self, API_KEY, AuthorizationHeader):\n",
    "        self.url_base = \"https://api.onegov.nsw.gov.au\" # Base Url\n",
    "        self.API_KEY = API_KEY\n",
    "        self.AuthorizationHeader = AuthorizationHeader\n",
    "\n",
    "    \n",
    "    def get_datetime_now():\n",
    "        return datetime.now(timezone.utc).strftime(\"%d/%m/%Y %I:%M:%S %p\")\n",
    "    \n",
    "\n",
    "    def get_unique_transactionId():\n",
    "        return str(uuid.uuid4())\n",
    "\n",
    "    def get_accesstoken(self):\n",
    "        # Config url api prameters for getting accesstoken\n",
    "        url_subpart = \"/oauth/client_credential/accesstoken\"\n",
    "\n",
    "        url = self.url_base + url_subpart\n",
    "\n",
    "        query_getAccessToken = {\"grant_type\":\"client_credentials\"}\n",
    "\n",
    "        headers_getAccessToken = {'Authorization': self.AuthorizationHeader}\n",
    "\n",
    "        # Get the web result for accesstoken\n",
    "        response = requests.get(url, headers=headers_getAccessToken, params=query_getAccessToken)\n",
    "\n",
    "        # Get the accesstoken from the web result\n",
    "        access_token = response.json()[\"access_token\"]\n",
    "\n",
    "        return access_token\n",
    "\n",
    "\n",
    "    def getFuelPrice(self):\n",
    "        '''\n",
    "        Returns all current fuel prices for all service stations. There may be restrictions on how often this API request can be made. It is recommended to execute this call in a separate api client as response can be over 2 mb. This API returns data for NSW.\n",
    "        '''\n",
    "        # Config url api prameters for getting fuel price\n",
    "        url_subpart = \"/FuelPriceCheck/v1/fuel/prices\"\n",
    "\n",
    "        url = self.url_base + url_subpart\n",
    "\n",
    "        headers = {\n",
    "            'Authorization': f'Bearer {self.get_accesstoken()}',\n",
    "            'Content-Type': 'application/json; charset=utf-8',\n",
    "            'apikey': self.API_KEY,\n",
    "            'transactionid': FuelPriceCheckAPI.get_unique_transactionId(),\n",
    "            'requesttimestamp': FuelPriceCheckAPI.get_datetime_now()\n",
    "        }\n",
    "\n",
    "        time.sleep(5)\n",
    "\n",
    "        response = requests.get(url, headers=headers)\n",
    "\n",
    "        return response\n",
    "\n",
    "\n",
    "\n",
    "    def getNewFuelPrice(self):\n",
    "        '''\n",
    "        Returns all new current prices that have been submitted since the last \"/fuelpricecheck/v1/fuel/prices\" or \"/fuelpricecheck/v1/fuel/prices/new\" request using the apikey on the current day. This API returns data for NSW.\n",
    "        '''\n",
    "        # Config url api prameters for getting fuel price\n",
    "        url_subpart = \"/FuelPriceCheck/v1/fuel/prices/new\"\n",
    "\n",
    "        url = self.url_base + url_subpart\n",
    "\n",
    "        headers = {\n",
    "            'Authorization': f'Bearer {self.get_accesstoken()}',\n",
    "            'Content-Type': 'application/json; charset=utf-8',\n",
    "            'apikey': self.API_KEY,\n",
    "            'transactionid': FuelPriceCheckAPI.get_unique_transactionId(),\n",
    "            'requesttimestamp': FuelPriceCheckAPI.get_datetime_now()\n",
    "        }\n",
    "\n",
    "        time.sleep(5)\n",
    "\n",
    "        response = requests.get(url, headers=headers)\n",
    "\n",
    "        return response\n"
   ]
  },
  {
   "cell_type": "code",
   "execution_count": null,
   "id": "618d7fb2",
   "metadata": {},
   "outputs": [],
   "source": [
    "# Construct the class\n",
    "fuelpriceAPI = FuelPriceCheckAPI(API_KEY, AuthorizationHeader)"
   ]
  },
  {
   "cell_type": "code",
   "execution_count": null,
   "id": "de1f89e8",
   "metadata": {},
   "outputs": [],
   "source": [
    "# To use the API, simply called fuelpriceAPI.getNewFuelPrice() or fuelpriceAPI.getFuelPrice() depends on the usage\n",
    "responseFromGetFuelPrice = fuelpriceAPI.getFuelPrice()"
   ]
  },
  {
   "cell_type": "code",
   "execution_count": null,
   "id": "cfce2b6a",
   "metadata": {},
   "outputs": [],
   "source": [
    "# See the result\n",
    "print(json.dumps(responseFromGetFuelPrice.json(), indent=4, sort_keys=True))"
   ]
  },
  {
   "cell_type": "code",
   "execution_count": null,
   "id": "01694ede",
   "metadata": {},
   "outputs": [],
   "source": [
    "# To use the API, simply called fuelpriceAPI.getNewFuelPrice() or fuelpriceAPI.getFuelPrice() depends on the usage\n",
    "responseFromGetNewFuelPrice = fuelpriceAPI.getNewFuelPrice()"
   ]
  },
  {
   "cell_type": "code",
   "execution_count": null,
   "id": "638d7fe7",
   "metadata": {},
   "outputs": [],
   "source": [
    "# See the result\n",
    "print(json.dumps(responseFromGetNewFuelPrice.json(), indent=4, sort_keys=True))"
   ]
  },
  {
   "cell_type": "markdown",
   "id": "c686980c",
   "metadata": {},
   "source": [
    "2. Data Integration and Storage"
   ]
  },
  {
   "cell_type": "code",
   "execution_count": null,
   "id": "bcba2e5e",
   "metadata": {},
   "outputs": [],
   "source": []
  },
  {
   "cell_type": "code",
   "execution_count": null,
   "id": "1dbc0fd2",
   "metadata": {},
   "outputs": [],
   "source": [
    "# 2. Data Integration and Storage"
   ]
  },
  {
   "cell_type": "markdown",
   "id": "1c152b2d",
   "metadata": {},
   "source": [
    "3. Data Publishing via MQTT"
   ]
  },
  {
   "cell_type": "code",
   "execution_count": null,
   "id": "4399d868",
   "metadata": {},
   "outputs": [],
   "source": [
    "# 3. Data Publishing via MQTT\n"
   ]
  },
  {
   "cell_type": "markdown",
   "id": "c160c5df",
   "metadata": {},
   "source": [
    "4. Data Subscribing and Visualisation"
   ]
  },
  {
   "cell_type": "code",
   "execution_count": null,
   "id": "c471690b",
   "metadata": {},
   "outputs": [],
   "source": [
    "# 4. Data Subscribing and Visualisation"
   ]
  },
  {
   "cell_type": "markdown",
   "id": "f5d2e3fc",
   "metadata": {},
   "source": [
    "5. Continuous Execution"
   ]
  },
  {
   "cell_type": "code",
   "execution_count": null,
   "id": "2f943b81",
   "metadata": {},
   "outputs": [],
   "source": [
    "# 5. Continuous Execution"
   ]
  }
 ],
 "metadata": {
  "kernelspec": {
   "display_name": "Python 3",
   "language": "python",
   "name": "python3"
  },
  "language_info": {
   "codemirror_mode": {
    "name": "ipython",
    "version": 3
   },
   "file_extension": ".py",
   "mimetype": "text/x-python",
   "name": "python",
   "nbconvert_exporter": "python",
   "pygments_lexer": "ipython3",
   "version": "3.13.0"
  }
 },
 "nbformat": 4,
 "nbformat_minor": 5
}
